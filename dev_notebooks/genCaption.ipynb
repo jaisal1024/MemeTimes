{
 "cells": [
  {
   "cell_type": "code",
   "execution_count": 12,
   "metadata": {
    "collapsed": true
   },
   "outputs": [],
   "source": [
    "comments=['\"\\'A lot of millennials don\\'t even own can openers,\\' Andy Mecs\"\\n\\nWhere do they come up with this stuff? I don\\'t know anyone that doesn\\'t own a can opener',\n",
    " '[deleted]',\n",
    " '&gt;\"A lot of millennials don\\'t even own can openers,\"\\n\\nI\\'m sorry what? I don\\'t believe this is true at all. \\n\\n',\n",
    " \"Yes, its totally Millennials' fault. We were causing Tuna demand to fall before we could even join the market that how powerful we are.\\n\\nhttps://www.washingtonpost.com/news/wonk/wp/2014/08/18/how-america-fell-out-of-love-with-canned-tuna/?utm_term=.255debc24dd7\\n\\n\",\n",
    " '\"Millennials are killing all the things we love!\"\\n\\nNo, you just had a bunch of really shitty products and ideas and the \"millennials\" just aren\\'t putting up with that shit. Not to mention bluefin tuna is damn near endangered but they dont give a fuck because it sells. Mickydees goes out of business tomorrow they\\'ll be crying about Millennials killing the fast food industry. No, your less than dogfood grade meat killed off your customer base and we just don\\'t want diabetes. Big tobacco is already on the fuck millennials band wagon. I wonder why? ',\n",
    " \"Fuck the WSJ. \\n\\n&gt;**Smaller brands that market themselves as safer and higher-quality are also eating into their market share, The Wall Street Journal reports.** \\n\\nSo it's definitely not that people are making more ethical decisions about consumption. It's definitely the millennials and not owning can openers that is a problem. \\n\\nOr maybe, if markets want to keep their share, they should adapt to new customers...?\\n\\n&amp;#x200B;\",\n",
    " 'Those damn people born between 1981 and 1996, always ruining everything! ',\n",
    " 'lol i\\'d love to know what kind of \"research\" they did to conclude most millennial\\'s don\\'t own a can opener.',\n",
    " \"Millennial here. I don't eat anything that came out of the ocean. Not for environmental issues just not my thing. I also don't own a microwave. I guess I'm killing a ton of industries lol\",\n",
    " 'I always thought that it was disgusting ', \n",
    " '\"\\'A lot of millennials don\\'t even own can openers,\\' Andy Mecs\"\\n\\nWhere do they come up with this stuff? I don\\'t know anyone that doesn\\'t own a can opener',\n",
    " '[deleted]',\n",
    " '&gt;\"A lot of millennials don\\'t even own can openers,\"\\n\\nI\\'m sorry what? I don\\'t believe this is true at all. \\n\\n',\n",
    " \"Yes, its totally Millennials' fault. We were causing Tuna demand to fall before we could even join the market that how powerful we are.\\n\\nhttps://www.washingtonpost.com/news/wonk/wp/2014/08/18/how-america-fell-out-of-love-with-canned-tuna/?utm_term=.255debc24dd7\\n\\n\",\n",
    " '\"Millennials are killing all the things we love!\"\\n\\nNo, you just had a bunch of really shitty products and ideas and the \"millennials\" just aren\\'t putting up with that shit. Not to mention bluefin tuna is damn near endangered but they dont give a fuck because it sells. Mickydees goes out of business tomorrow they\\'ll be crying about Millennials killing the fast food industry. No, your less than dogfood grade meat killed off your customer base and we just don\\'t want diabetes. Big tobacco is already on the fuck millennials band wagon. I wonder why? ',\n",
    " \"Fuck the WSJ. \\n\\n&gt;**Smaller brands that market themselves as safer and higher-quality are also eating into their market share, The Wall Street Journal reports.** \\n\\nSo it's definitely not that people are making more ethical decisions about consumption. It's definitely the millennials and not owning can openers that is a problem. \\n\\nOr maybe, if markets want to keep their share, they should adapt to new customers...?\\n\\n&amp;#x200B;\",\n",
    " 'Those damn people born between 1981 and 1996, always ruining everything! ',\n",
    " 'lol i\\'d love to know what kind of \"research\" they did to conclude most millennial\\'s don\\'t own a can opener.',\n",
    " \"Millennial here. I don't eat anything that came out of the ocean. Not for environmental issues just not my thing. I also don't own a microwave. I guess I'm killing a ton of industries lol\",\n",
    " 'I always thought that it was disgusting ', 'It’s not super common, but the GBS thing is real. Happened to my grandfather around 6 months before he passed away. (He has other medical ailments, but the GBS certainly didn’t help.)', \"&gt;  Guillain-Barré syndrome (GBS) is a rare disorder in which a person’s own immune system damages their nerve cells, causing muscle weakness and sometimes paralysis. GBS can cause symptoms that usually last for a few weeks. Most people recover fully from GBS, but some people have long-term nerve damage. In very rare cases, people have died of GBS, usually from difficulty breathing. In the United States, an estimated 3,000 to 6,000 people develop GBS each year.\\n\\nFrom the cdc's website for anyone curious on this condition.  Keep in mind, it's very rare, and most who get it fully recover , but it does happen (~1 in a million)\", \"It's a numbers game.  Way more people die to not being vaccinated than any side effect that has such a low chance to occur you might as well play lotto.\", 'It\\'s weird how the person we\\'re quoting on this is the man himself and not, yknow, the doctors who treated him. The whole article is \"he says it was the flu shot, his wife agrees, *doctors say he would have been in a far worse position if he had gotten the flu* BUUUUUT he and his wife hate flu shots now.\\n\\nIt\\'s like quoting the parents who think vaccines gave their kids autism as if they\\'re the experts.', 'Problem is so many Facebook mommies will see this and go “see?! Big pharma omg flu shot autism” and try to sell you essential oils. \\n\\nAnd vaccination rates will decline again.', 'This happened to my uncle-in-law at the age of 50. He never recovered. He is now 55 and in a nursing home, requiring 24-hour care. We do not expect him to survive the winter.', 'Oh nice just wanted the anti Vaxxeer’s needed to hear', 'Great, as if the anti-vax/pro-illness fuckwad crowd needed more for their stupid arguments.', \"And the flu could of triggered his GBS as well. The flu shot may of been the trigger this time, but it's more like to kill you if you get it from the flu itself.\", '[deleted]']"
   ]
  },
  {
   "cell_type": "code",
   "execution_count": 37,
   "metadata": {
    "scrolled": false
   },
   "outputs": [
    {
     "name": "stdout",
     "output_type": "stream",
     "text": [
      "a lot of millennials dont even own can openers, andy mecswhere do they come up with this stuff? i dont know anyone that doesnt own a can opener.[deleted].&gt;a lot of millennials dont even own can openers,im sorry what? i dont believe this is true at all. .yes, its totally millennials fault. we were causing tuna demand to fall before we could even join the market that how powerful we are.https://www.washingtonpost.com/news/wonk/wp/2014/08/18/how-america-fell-out-of-love-with-canned-tuna/?utm_term=.255debc24dd7.millennials are killing all the things we love!no, you just had a bunch of really shitty products and ideas and the millennials just arent putting up with that shit. not to mention bluefin tuna is damn near endangered but they dont give a fuck because it sells. mickydees goes out of business tomorrow theyll be crying about millennials killing the fast food industry. no, your less than dogfood grade meat killed off your customer base and we just dont want diabetes. big tobacco is already on the fuck millennials band wagon. i wonder why? .fuck the wsj. &gt;**smaller brands that market themselves as safer and higher-quality are also eating into their market share, the wall street journal reports.** so its definitely not that people are making more ethical decisions about consumption. its definitely the millennials and not owning can openers that is a problem. or maybe, if markets want to keep their share, they should adapt to new customers...?&amp;#x200b;.those damn people born between 1981 and 1996, always ruining everything! .lol id love to know what kind of research they did to conclude most millennials dont own a can opener..millennial here. i dont eat anything that came out of the ocean. not for environmental issues just not my thing. i also dont own a microwave. i guess im killing a ton of industries lol.i always thought that it was disgusting .a lot of millennials dont even own can openers, andy mecswhere do they come up with this stuff? i dont know anyone that doesnt own a can opener.[deleted].&gt;a lot of millennials dont even own can openers,im sorry what? i dont believe this is true at all. .yes, its totally millennials fault. we were causing tuna demand to fall before we could even join the market that how powerful we are.https://www.washingtonpost.com/news/wonk/wp/2014/08/18/how-america-fell-out-of-love-with-canned-tuna/?utm_term=.255debc24dd7.millennials are killing all the things we love!no, you just had a bunch of really shitty products and ideas and the millennials just arent putting up with that shit. not to mention bluefin tuna is damn near endangered but they dont give a fuck because it sells. mickydees goes out of business tomorrow theyll be crying about millennials killing the fast food industry. no, your less than dogfood grade meat killed off your customer base and we just dont want diabetes. big tobacco is already on the fuck millennials band wagon. i wonder why? .fuck the wsj. &gt;**smaller brands that market themselves as safer and higher-quality are also eating into their market share, the wall street journal reports.** so its definitely not that people are making more ethical decisions about consumption. its definitely the millennials and not owning can openers that is a problem. or maybe, if markets want to keep their share, they should adapt to new customers...?&amp;#x200b;.those damn people born between 1981 and 1996, always ruining everything! .lol id love to know what kind of research they did to conclude most millennials dont own a can opener..millennial here. i dont eat anything that came out of the ocean. not for environmental issues just not my thing. i also dont own a microwave. i guess im killing a ton of industries lol.i always thought that it was disgusting .it’s not super common, but the gbs thing is real. happened to my grandfather around 6 months before he passed away. (he has other medical ailments, but the gbs certainly didn’t help.).&gt;  guillain-barré syndrome (gbs) is a rare disorder in which a person’s own immune system damages their nerve cells, causing muscle weakness and sometimes paralysis. gbs can cause symptoms that usually last for a few weeks. most people recover fully from gbs, but some people have long-term nerve damage. in very rare cases, people have died of gbs, usually from difficulty breathing. in the united states, an estimated 3,000 to 6,000 people develop gbs each year.from the cdcs website for anyone curious on this condition.  keep in mind, its very rare, and most who get it fully recover , but it does happen (~1 in a million).its a numbers game.  way more people die to not being vaccinated than any side effect that has such a low chance to occur you might as well play lotto..its weird how the person were quoting on this is the man himself and not, yknow, the doctors who treated him. the whole article is he says it was the flu shot, his wife agrees, *doctors say he would have been in a far worse position if he had gotten the flu* buuuuut he and his wife hate flu shots now.its like quoting the parents who think vaccines gave their kids autism as if theyre the experts..problem is so many facebook mommies will see this and go “see?! big pharma omg flu shot autism” and try to sell you essential oils. and vaccination rates will decline again..this happened to my uncle-in-law at the age of 50. he never recovered. he is now 55 and in a nursing home, requiring 24-hour care. we do not expect him to survive the winter..oh nice just wanted the anti vaxxeer’s needed to hear.great, as if the anti-vax/pro-illness fuckwad crowd needed more for their stupid arguments..and the flu could of triggered his gbs as well. the flu shot may of been the trigger this time, but its more like to kill you if you get it from the flu itself..[deleted]\n"
     ]
    }
   ],
   "source": [
    "new_cmnt = []\n",
    "for i in comments: \n",
    "    new_cmnt.append(i.lower().replace('\\n', '').replace('\"', '').replace(\"'\", ''))\n",
    "print('.'.join(x for x in new_cmnt))"
   ]
  },
  {
   "cell_type": "code",
   "execution_count": 38,
   "metadata": {},
   "outputs": [
    {
     "name": "stdout",
     "output_type": "stream",
     "text": [
      "Requirement already satisfied: markovify in c:\\users\\artem\\anaconda3\\lib\\site-packages (0.7.1)\n",
      "Requirement already satisfied: unidecode in c:\\users\\artem\\anaconda3\\lib\\site-packages (from markovify) (1.0.23)\n"
     ]
    }
   ],
   "source": [
    "!pip install markovify"
   ]
  },
  {
   "cell_type": "code",
   "execution_count": 40,
   "metadata": {},
   "outputs": [
    {
     "name": "stdout",
     "output_type": "stream",
     "text": [
      "None\n",
      "None\n",
      "None\n",
      "None\n",
      "None\n",
      "None\n",
      "None\n",
      "None\n"
     ]
    }
   ],
   "source": [
    "import markovify\n",
    "\n",
    "# Get raw text as string.\n",
    "# with open(\"/path/to/my/corpus.txt\") as f:\n",
    "#     text = f.read()\n",
    "\n",
    "# Build the model.\n",
    "text_model = markovify.Text('.'.join(x for x in new_cmnt))\n",
    "\n",
    "# Print five randomly-generated sentences\n",
    "for i in range(5):\n",
    "    print(text_model.make_sentence())\n",
    "\n",
    "# Print three randomly-generated sentences of no more than 140 characters\n",
    "for i in range(3):\n",
    "    print(text_model.make_short_sentence(140))"
   ]
  },
  {
   "cell_type": "code",
   "execution_count": null,
   "metadata": {
    "collapsed": true
   },
   "outputs": [],
   "source": []
  },
  {
   "cell_type": "code",
   "execution_count": null,
   "metadata": {
    "collapsed": true
   },
   "outputs": [],
   "source": []
  }
 ],
 "metadata": {
  "kernelspec": {
   "display_name": "Python 3",
   "language": "python",
   "name": "python3"
  },
  "language_info": {
   "codemirror_mode": {
    "name": "ipython",
    "version": 3
   },
   "file_extension": ".py",
   "mimetype": "text/x-python",
   "name": "python",
   "nbconvert_exporter": "python",
   "pygments_lexer": "ipython3",
   "version": "3.6.3"
  }
 },
 "nbformat": 4,
 "nbformat_minor": 2
}
