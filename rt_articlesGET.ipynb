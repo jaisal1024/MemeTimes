{
 "cells": [
  {
   "cell_type": "code",
   "execution_count": null,
   "metadata": {},
   "outputs": [],
   "source": [
    "!pip install praw"
   ]
  },
  {
   "cell_type": "code",
   "execution_count": null,
   "metadata": {},
   "outputs": [],
   "source": [
    "import requests\n",
    "import requests.auth\n",
    "import pandas as pd\n",
    "from newspaper import Article \n",
    "import praw\n",
    "import json\n"
   ]
  },
  {
   "cell_type": "code",
   "execution_count": null,
   "metadata": {},
   "outputs": [],
   "source": [
    "with open('config.json') as f:\n",
    "    data = json.load(f)\n",
    "reddit_cred = data['Reddit']\n",
    "watson_cred = data['Watson']\n",
    "newspaper_cred = data['News']"
   ]
  },
  {
   "cell_type": "code",
   "execution_count": null,
   "metadata": {},
   "outputs": [],
   "source": [
    "reddit = praw.Reddit(**reddit_cred)"
   ]
  },
  {
   "cell_type": "code",
   "execution_count": null,
   "metadata": {},
   "outputs": [],
   "source": [
    "import nltk\n",
    "# nltk.download()\n",
    "from praw.models import MoreComments\n",
    "topics_dict = { \"title\":[], \n",
    "                \"score\":[], \n",
    "                \"id\":[], \"url\":[], \n",
    "                \"comms_num\": [], \n",
    "                \"created\": [], \n",
    "                \"body\":[],\n",
    "                \"image\":[],\n",
    "                \"keywords\":[],\n",
    "                \"summary\":[]\n",
    "                  }\n",
    "for submission in reddit.subreddit('news').controversial(time_filter = 'week', limit=150):\n",
    "    submission.comment_sort = 'top'\n",
    "#     submission.comments.replace_more(limit=None)\n",
    "#     print(submission.url)\n",
    "    article = Article(submission.url)\n",
    "    try:\n",
    "        article.download()\n",
    "    except:\n",
    "        pass\n",
    "    article.parse()\n",
    "\n",
    "    article.nlp()\n",
    "    \n",
    "#     print(article.top)\n",
    "    topics_dict[\"title\"].append(submission.title)\n",
    "    topics_dict[\"score\"].append(submission.score)\n",
    "    topics_dict[\"id\"].append(submission.id)\n",
    "    topics_dict[\"url\"].append(submission.url)\n",
    "    topics_dict[\"comms_num\"].append(submission.num_comments)\n",
    "    topics_dict[\"created\"].append(submission.created)\n",
    "    topics_dict[\"body\"].append(article.text)\n",
    "    topics_dict[\"image\"].append(article.top_image)\n",
    "    topics_dict[\"keywords\"].append(article.keywords)\n",
    "    topics_dict[\"summary\"].append(article.summary)\n",
    "    \n",
    "topics_data = pd.DataFrame(topics_dict)\n",
    "topics_data\n",
    "#     break\n",
    "\n",
    "#     for comment in submission.comments.list():\n",
    "#         topics_dict = { \"title\":[], \n",
    "#                         \"score\":[], \n",
    "#                         \"id\":[],\n",
    "#                         \"created\": [],\n",
    "#                         \"body\":[]}\n",
    "#         cn+=1\n",
    "#         rc += len(comment.replies)\n",
    "#         print(rc)\n",
    "#         print(len(comment.replies))\n",
    "#         print(comment.parent())\n",
    "#     break\n",
    "    \n",
    "#     comment_queue = submission.comments[:]  # Seed with top-level\n",
    "#     while comment_queue:\n",
    "#         comment = comment_queue.pop(0)\n",
    "#         print(comment.body)\n",
    "#         comment_queue.extend(comment.replies)\n",
    "    \n",
    "#     for top_level_comment in submission.comments:\n",
    "#         for second_level_comment in top_level_comment.replies:\n",
    "#             print(second_level_comment.body)"
   ]
  }
 ],
 "metadata": {
  "kernelspec": {
   "display_name": "Python 3",
   "language": "python",
   "name": "python3"
  },
  "language_info": {
   "codemirror_mode": {
    "name": "ipython",
    "version": 3
   },
   "file_extension": ".py",
   "mimetype": "text/x-python",
   "name": "python",
   "nbconvert_exporter": "python",
   "pygments_lexer": "ipython3",
   "version": "3.6.5"
  }
 },
 "nbformat": 4,
 "nbformat_minor": 2
}
